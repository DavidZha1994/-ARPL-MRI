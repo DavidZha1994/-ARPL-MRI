{
 "cells": [
  {
   "cell_type": "code",
   "execution_count": 1,
   "metadata": {},
   "outputs": [],
   "source": [
    "import multiprocessing\n",
    "import os\n",
    "import random\n",
    "import time\n",
    "from pathlib import Path\n",
    "\n",
    "import matplotlib.pyplot as plt\n",
    "import numpy as np\n",
    "import ruamel.yaml\n",
    "import torch\n",
    "import torchio as tio\n",
    "import torchvision\n",
    "from tqdm.notebook import tqdm"
   ]
  },
  {
   "cell_type": "code",
   "execution_count": 2,
   "metadata": {},
   "outputs": [
    {
     "name": "stdout",
     "output_type": "stream",
     "text": [
      "Last run on Sun May 22 11:48:34 2022\n",
      "TorchIO version: 0.18.77\n"
     ]
    }
   ],
   "source": [
    "seed = 42\n",
    "random.seed(seed)\n",
    "torch.manual_seed(seed)\n",
    "%config InlineBackend.figure_format = 'retina'\n",
    "num_workers = multiprocessing.cpu_count()\n",
    "plt.rcParams['figure.figsize'] = 12, 6\n",
    "\n",
    "print('Last run on', time.ctime())\n",
    "print('TorchIO version:', tio.__version__)"
   ]
  },
  {
   "cell_type": "code",
   "execution_count": 3,
   "metadata": {},
   "outputs": [],
   "source": [
    "yaml = ruamel.yaml.YAML()\n",
    "yaml.representer.ignore_aliases = lambda *data: True\n",
    "\n",
    "DefaultConfigPath = \"Config.yaml\"\n",
    "\n",
    "with open(DefaultConfigPath, encoding=\"utf-8\") as inyaml:\n",
    "    yaml_data = yaml.load(inyaml)"
   ]
  },
  {
   "cell_type": "code",
   "execution_count": 4,
   "metadata": {},
   "outputs": [],
   "source": [
    "dataset_dir = Path(yaml_data[\"dataset_dir_name\"])"
   ]
  },
  {
   "cell_type": "code",
   "execution_count": 8,
   "metadata": {},
   "outputs": [
    {
     "name": "stdout",
     "output_type": "stream",
     "text": [
      "Number of subjects in dataset: 570\n",
      "Keys in subject: ('subject_id', 'MRA')\n",
      "Shape of MRA data: (1, 241, 240, 80)\n"
     ]
    }
   ],
   "source": [
    "transforms = [\n",
    "    tio.ToCanonical(),  # to RAS\n",
    "    tio.Resample((1, 1, 1)),  # to 1 mm iso\n",
    "]\n",
    "ixi_dataset = tio.datasets.IXI(\n",
    "    dataset_dir,\n",
    "    modalities=(yaml_data[\"modalities\"]),\n",
    "    transform=tio.Compose(transforms),\n",
    "    download=yaml_data[\"download_dataset\"],\n",
    "    )\n",
    "print('Number of subjects in dataset:', len(ixi_dataset))\n",
    "sample_subject = ixi_dataset[0]\n",
    "print('Keys in subject:', tuple(sample_subject.keys()))\n",
    "for key in yaml_data[\"modalities\"]:\n",
    "    print(f'Shape of {key} data:', sample_subject[key].shape)"
   ]
  },
  {
   "cell_type": "code",
   "execution_count": 9,
   "metadata": {},
   "outputs": [],
   "source": [
    "folder = Path(yaml_data[\"output_augmentation_dir_name\"])\n",
    "if not os.path.exists(folder): \n",
    "    os.makedirs(folder)"
   ]
  },
  {
   "cell_type": "code",
   "execution_count": 10,
   "metadata": {},
   "outputs": [],
   "source": [
    "def img_transform(sample, transtpye):\n",
    "\n",
    "    if transtpye == 'RandomFlip':\n",
    "        RandomFlip = tio.RandomFlip(axes=['inferior-superior'], flip_probability=1)\n",
    "        transformed = RandomFlip(sample)\n",
    "        transformed.mri.save(f'{yaml_data[\"output_augmentation_dir_name\"]}//{key}//{transtpye}//RF-{str(sample.mri.path).lstrip(str(images_dir))}')\n",
    "\n",
    "    if transtpye == 'RandomAffine':\n",
    "        RandomAffine = tio.RandomAffine()\n",
    "        transformed = RandomAffine(sample)\n",
    "        transformed.mri.save(f'{yaml_data[\"output_augmentation_dir_name\"]}//{key}//{transtpye}//RAff-{str(sample.mri.path).lstrip(str(images_dir))}')\n",
    "\n",
    "    if transtpye == 'RandomElasticDeformation':\n",
    "        max_displacement = 15, 10, 0 \n",
    "        RandomElasticDeformation = tio.RandomElasticDeformation(max_displacement=max_displacement)\n",
    "        transformed = RandomElasticDeformation(sample)\n",
    "        transformed.mri.save(f'{yaml_data[\"output_augmentation_dir_name\"]}//{key}//{transtpye}//RE-{str(sample.mri.path).lstrip(str(images_dir))}')\n",
    "\n",
    "    if transtpye == 'RandomAnisotropy':\n",
    "        RandomAnisotropy = tio.RandomAnisotropy()\n",
    "        transformed = RandomAnisotropy(sample)\n",
    "        transformed.mri.save(f'{yaml_data[\"output_augmentation_dir_name\"]}//{key}//{transtpye}//RA-{str(sample.mri.path).lstrip(str(images_dir))}')\n",
    "\n",
    "    if transtpye == 'RandomMotion':\n",
    "        RandomMotion = tio.RandomMotion()\n",
    "        transformed = RandomMotion(sample)\n",
    "        transformed.mri.save(f'{yaml_data[\"output_augmentation_dir_name\"]}//{key}//{transtpye}//RM-{str(sample.mri.path).lstrip(str(images_dir))}')\n",
    "\n",
    "    if transtpye == 'RandomGhosting':\n",
    "        RandomGhosting = tio.RandomGhosting(intensity=1.5)\n",
    "        transformed = RandomGhosting(sample)\n",
    "        transformed.mri.save(f'{yaml_data[\"output_augmentation_dir_name\"]}//{key}//{transtpye}//RG-{str(sample.mri.path).lstrip(str(images_dir))}')\n",
    "\n",
    "    if transtpye == 'RandomSpike':\n",
    "        RandomSpike = tio.RandomSpike()\n",
    "        transformed = RandomSpike(sample)\n",
    "        transformed.mri.save(f'{yaml_data[\"output_augmentation_dir_name\"]}//{key}//{transtpye}//RS-{str(sample.mri.path).lstrip(str(images_dir))}')\n",
    "\n",
    "    if transtpye == 'RandomBiasField':\n",
    "        RandomBiasField = tio.RandomBiasField(coefficients=1)\n",
    "        transformed = RandomBiasField(sample)\n",
    "        transformed.mri.save(f'{yaml_data[\"output_augmentation_dir_name\"]}//{key}//{transtpye}//RBias-{str(sample.mri.path).lstrip(str(images_dir))}')\n",
    "\n",
    "    if transtpye == 'RandomBlur':\n",
    "        RandomBlur = tio.RandomBlur()\n",
    "        transformed = RandomBlur(sample)\n",
    "        transformed.mri.save(f'{yaml_data[\"output_augmentation_dir_name\"]}//{key}//{transtpye}//RB-{str(sample.mri.path).lstrip(str(images_dir))}')\n",
    "\n",
    "    if transtpye == 'RandomNoise':\n",
    "        add_noise = tio.RandomNoise(std=0.5)\n",
    "        transformed = add_noise(sample)\n",
    "        transformed.mri.save(f'{yaml_data[\"output_augmentation_dir_name\"]}//{key}//{transtpye}//RN-{str(sample.mri.path).lstrip(str(images_dir))}')\n",
    "\n",
    "    if transtpye == 'RandomSwap':\n",
    "        RandomSwap = tio.RandomSwap()\n",
    "        transformed = RandomSwap(sample)\n",
    "        transformed.mri.save(f'{yaml_data[\"output_augmentation_dir_name\"]}//{key}//{transtpye}//RSwap-{str(sample.mri.path).lstrip(str(images_dir))}')\n",
    "\n",
    "    if transtpye == 'RandomGamma':\n",
    "        RandomGamma = tio.RandomGamma()\n",
    "        transformed = RandomGamma(sample)\n",
    "        transformed.mri.save(f'{yaml_data[\"output_augmentation_dir_name\"]}//{key}//{transtpye}//RG-{str(sample.mri.path).lstrip(str(images_dir))}')\n",
    "\n",
    "    if transtpye == 'RandomLabelsToImage':\n",
    "        RandomLabelsToImage = tio.RandomLabelsToImage()\n",
    "        transformed = RandomLabelsToImage(sample)\n",
    "        transformed.mri.save(f'{yaml_data[\"output_augmentation_dir_name\"]}//{key}//{transtpye}//RL2I-{str(sample.mri.path).lstrip(str(images_dir))}')\n",
    "        \n",
    "    # if transtpye == 'MIX':\n",
    "    #     transform = tio.Compose((\n",
    "    #         #tio.CropOrPad(max_side),\n",
    "    #         tio.RandomFlip(),\n",
    "    #         tio.RandomAffine(degrees=360),\n",
    "    #     ))\n",
    "    #     dataset = tio.SubjectsDataset(subjects, transform=transform)\n",
    "    #     transformed.mri.save(f'{yaml_data[\"output_augmentation_dir_name\"]}//{key}//{transtpye}//RF-{str(sample.mri.path).lstrip(str(images_dir))}')"
   ]
  },
  {
   "cell_type": "code",
   "execution_count": 11,
   "metadata": {},
   "outputs": [],
   "source": [
    "def img_normalization(sample, transtpye):\n",
    "    to_ras = tio.ToCanonical()\n",
    "    sample_ras = to_ras(sample)\n",
    "    target_shape = 256, 256, 256\n",
    "    crop_pad = tio.CropOrPad(target_shape)\n",
    "    croped = crop_pad(sample_ras)\n",
    "    if transtpye == 'HistogramStandardization':\n",
    "        landmarks = np.load(histogram_landmarks_path)\n",
    "        landmarks_dict = {'mri': landmarks}\n",
    "        histogram_transform = tio.HistogramStandardization(landmarks_dict)\n",
    "        transformed = histogram_transform(croped)\n",
    "        \n",
    "        transformed.img.save(f'{yaml_data[\"output_augmentation_dir_name\"]}//{key}//{transtpye}//HS-{str(sample.mri.path).lstrip(str(images_dir))}')\n",
    "\n",
    "    if transtpye == 'ZNormalization':\n",
    "        standardize = tio.ZNormalization()\n",
    "        transformed = standardize(croped)\n",
    "        transformed.mri.save(f'{yaml_data[\"output_augmentation_dir_name\"]}//{key}//{transtpye}//ZN-{str(sample.mri.path).lstrip(str(images_dir))}')\n",
    "\n",
    "    return transformed"
   ]
  },
  {
   "cell_type": "code",
   "execution_count": null,
   "metadata": {},
   "outputs": [
    {
     "name": "stderr",
     "output_type": "stream",
     "text": [
      "100%|██████████| 578/578 [02:24<00:00,  4.01it/s]\n"
     ]
    },
    {
     "data": {
      "application/vnd.jupyter.widget-view+json": {
       "model_id": "fad42b018ba7457b9ce7c82c079d2db8",
       "version_major": 2,
       "version_minor": 0
      },
      "text/plain": [
       "  0%|          | 0/578 [00:00<?, ?it/s]"
      ]
     },
     "metadata": {},
     "output_type": "display_data"
    }
   ],
   "source": [
    "for key in yaml_data[\"modalities\"]:\n",
    "    folder = Path(yaml_data[\"output_augmentation_dir_name\"], key)\n",
    "    if not os.path.exists(folder): \n",
    "        os.makedirs(folder)\n",
    "    histogram_landmarks_path = f'{yaml_data[\"output_augmentation_dir_name\"]}//{key}//landmarks_{key}.npy'\n",
    "    images_dir = dataset_dir / key\n",
    "    image_paths = sorted(images_dir.glob('*.nii.gz'))\n",
    "    subjects = []\n",
    "    for image_path in image_paths:\n",
    "        subject = tio.Subject(\n",
    "            mri=tio.ScalarImage(image_path)\n",
    "        )\n",
    "        subjects.append(subject)\n",
    "\n",
    "    dataset = tio.SubjectsDataset(subjects)\n",
    "    if not os.path.exists(histogram_landmarks_path): \n",
    "        landmarks = tio.HistogramStandardization.train(\n",
    "        image_paths,\n",
    "        output_path=histogram_landmarks_path,\n",
    "        )\n",
    "        #np.set_printoptions(suppress=True, precision=3)\n",
    "        #print(f'\\nTrained {key} landmarks:', landmarks)\n",
    "    \n",
    "    \n",
    "    \n",
    "    for i ,sample in enumerate(tqdm(dataset)):\n",
    "    #     standard = histogram_transform(sample)\n",
    "    #     tensor = standard.mri.data\n",
    "    #     path = str(sample.mri.path)\n",
    "        folder = Path(yaml_data[\"output_augmentation_dir_name\"], key, yaml_data[\"Normalization\"])\n",
    "        if not os.path.exists(folder): \n",
    "            os.makedirs(folder)\n",
    "        sample_norm = img_normalization(sample, yaml_data[\"Normalization\"])\n",
    "        for type in yaml_data[\"transform\"]:\n",
    "            folder = Path(yaml_data[\"output_augmentation_dir_name\"], key, type)\n",
    "            if not os.path.exists(folder): \n",
    "                os.makedirs(folder)\n",
    "            img_transform(sample_norm, type)"
   ]
  },
  {
   "cell_type": "code",
   "execution_count": null,
   "metadata": {},
   "outputs": [],
   "source": []
  }
 ],
 "metadata": {
  "kernelspec": {
   "display_name": "Python 3.9.12 ('MA')",
   "language": "python",
   "name": "python3"
  },
  "language_info": {
   "codemirror_mode": {
    "name": "ipython",
    "version": 3
   },
   "file_extension": ".py",
   "mimetype": "text/x-python",
   "name": "python",
   "nbconvert_exporter": "python",
   "pygments_lexer": "ipython3",
   "version": "3.9.12"
  },
  "orig_nbformat": 4,
  "vscode": {
   "interpreter": {
    "hash": "bc0b2848d42a1790dcc7befc7fc2a50d959a1437aba9ce5b531cb2d6c27a0241"
   }
  }
 },
 "nbformat": 4,
 "nbformat_minor": 2
}
